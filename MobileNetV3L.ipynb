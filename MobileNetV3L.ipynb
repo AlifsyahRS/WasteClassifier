{
  "cells": [
    {
      "cell_type": "code",
      "execution_count": 1,
      "metadata": {
        "id": "PFP6pPkMKe2C"
      },
      "outputs": [],
      "source": [
        "%matplotlib inline\n",
        "import numpy as np\n",
        "import matplotlib.pyplot as plt\n",
        "import random\n",
        "import tensorflow as tf\n",
        "import math\n",
        "import os\n",
        "from sklearn.linear_model import LinearRegression\n",
        "from sklearn.preprocessing import PolynomialFeatures, StandardScaler, LabelEncoder\n",
        "from sklearn.model_selection import train_test_split\n",
        "from sklearn.metrics import precision_score,recall_score\n",
        "import json\n",
        "import seaborn as sns\n",
        "import itertools"
      ]
    },
    {
      "cell_type": "code",
      "execution_count": 2,
      "metadata": {
        "colab": {
          "base_uri": "https://localhost:8080/"
        },
        "id": "EMnr8ZvsGcoW",
        "outputId": "c070ffae-2d59-4ca2-eab3-69d1ef2f7cf7"
      },
      "outputs": [
        {
          "name": "stdout",
          "output_type": "stream",
          "text": [
            "Drive already mounted at /content/drive; to attempt to forcibly remount, call drive.mount(\"/content/drive\", force_remount=True).\n"
          ]
        }
      ],
      "source": [
        "from google.colab import drive # Model was trained in google colab\n",
        "drive.mount('/content/drive') # Mounting the dataset from Google Drive to the Colab"
      ]
    },
    {
      "cell_type": "code",
      "execution_count": 7,
      "metadata": {
        "colab": {
          "base_uri": "https://localhost:8080/"
        },
        "id": "WJ-YgUuFHMqC",
        "outputId": "3faf4469-9442-4c87-a39a-2623cd61d788"
      },
      "outputs": [
        {
          "name": "stdout",
          "output_type": "stream",
          "text": [
            "Found 3522 files belonging to 7 classes.\n",
            "Using 2818 files for training.\n",
            "Found 3522 files belonging to 7 classes.\n",
            "Using 704 files for validation.\n"
          ]
        }
      ],
      "source": [
        "# Loading the dataset\n",
        "DATA_DIR = '/content/drive/MyDrive/ISproject/Garbage_classification'\n",
        "\n",
        "\"\"\"\n",
        "The dataset used for training comprises of a combination of images from these two datasets:\n",
        " - Garbage Classification (https://www.kaggle.com/datasets/asdasdasasdas/garbage-classification)\n",
        " - Waste Classification Data V2 (https://www.kaggle.com/datasets/sapal6/waste-classification-data-v2) \n",
        "\n",
        "\n",
        "\"\"\"\n",
        "#Using Keras API from tensorflow to preprocess the dataset and resize them into 256x256 dimensions\n",
        "train_data = tf.keras.preprocessing.image_dataset_from_directory(DATA_DIR,validation_split=0.2,seed=42,subset=\"training\",smart_resize=True,image_size=(256,256)) # 80/20 train-test split\n",
        "\n",
        "test_data = tf.keras.preprocessing.image_dataset_from_directory(DATA_DIR,validation_split=0.2,seed=42,subset=\"validation\",smart_resize=True,image_size=(256,256))\n",
        "\n",
        "\n",
        "# Approximately a 80/20 split"
      ]
    },
    {
      "cell_type": "code",
      "execution_count": 8,
      "metadata": {
        "colab": {
          "base_uri": "https://localhost:8080/"
        },
        "id": "AA4Tfo_qIZNr",
        "outputId": "a37a6da0-0cad-4711-c163-5aca6a62d6bc"
      },
      "outputs": [
        {
          "name": "stdout",
          "output_type": "stream",
          "text": [
            "['cardboard', 'glass', 'metal', 'organic', 'paper', 'plastic', 'trash']\n"
          ]
        }
      ],
      "source": [
        "class_name = train_data.class_names\n",
        "numClasses = len(class_name) # 7 classes\n",
        "print(class_name) # ['cardboard', 'glass', 'metal', 'organic', 'paper', 'plastic', 'trash']"
      ]
    },
    {
      "cell_type": "code",
      "execution_count": 10,
      "metadata": {
        "colab": {
          "base_uri": "https://localhost:8080/"
        },
        "id": "_0Qwg6ipJAGb",
        "outputId": "16600ff6-f087-4bdc-dc94-f6fa5bb915ef"
      },
      "outputs": [
        {
          "name": "stderr",
          "output_type": "stream",
          "text": [
            "WARNING:tensorflow:`input_shape` is undefined or non-square, or `rows` is not 224. Weights for input shape (224, 224) will be loaded as the default.\n"
          ]
        }
      ],
      "source": [
        "# Creating the model\n",
        "\n",
        "baseModel = tf.keras.applications.MobileNetV3Large(input_shape=(256, 256,3), weights='imagenet', include_top=False, classes=numClasses) # Pulling a pre-trained model from Keras to put on top of our own layers\n",
        "for layers in baseModel.layers[:-6]: # Might change the model later\n",
        "  layers.trainable=False\n",
        "\n",
        "last_output = baseModel.layers[-1].output\n",
        "x = tf.keras.layers.Dropout(0.45) (last_output)\n",
        "x = tf.keras.layers.GlobalAveragePooling2D()(x)\n",
        "x = tf.keras.layers.BatchNormalization() (x)\n",
        "x = tf.keras.layers.Dense(256, activation = tf.keras.activations.elu, kernel_regularizer=tf.keras.regularizers.l1(0.045), activity_regularizer=tf.keras.regularizers.l1(0.045),  kernel_initializer='he_normal')(x)\n",
        "x = tf.keras.layers.Dropout(0.45) (x)\n",
        "x = tf.keras.layers.Dense(numClasses, activation='softmax')(x) # Using softmax as an activation function since it specializes in multiple class classification\n",
        "\n",
        "model = tf.keras.Model(inputs=baseModel.input,outputs=x)"
      ]
    },
    {
      "cell_type": "code",
      "execution_count": 11,
      "metadata": {
        "colab": {
          "base_uri": "https://localhost:8080/"
        },
        "id": "zScb70qv1WE1",
        "outputId": "d212cc71-e23a-4e47-e219-138ef9caf3f1"
      },
      "outputs": [
        {
          "name": "stdout",
          "output_type": "stream",
          "text": [
            "Epoch 1/60\n",
            "89/89 [==============================] - 141s 2s/step - loss: 72.4760 - accuracy: 0.6668 - val_loss: 7.5925 - val_accuracy: 0.5753\n",
            "Epoch 2/60\n",
            "89/89 [==============================] - 139s 2s/step - loss: 6.9139 - accuracy: 0.6927 - val_loss: 8.0404 - val_accuracy: 0.4531\n",
            "Epoch 3/60\n",
            "89/89 [==============================] - 134s 1s/step - loss: 7.0193 - accuracy: 0.7427 - val_loss: 8.3573 - val_accuracy: 0.6861\n",
            "Epoch 4/60\n",
            "89/89 [==============================] - 133s 1s/step - loss: 7.0948 - accuracy: 0.8062 - val_loss: 8.6476 - val_accuracy: 0.6619\n",
            "Epoch 5/60\n",
            "89/89 [==============================] - 136s 2s/step - loss: 7.2410 - accuracy: 0.8300 - val_loss: 8.6696 - val_accuracy: 0.7514\n",
            "Epoch 6/60\n",
            "89/89 [==============================] - 135s 2s/step - loss: 7.3255 - accuracy: 0.8566 - val_loss: 9.9382 - val_accuracy: 0.6293\n",
            "Epoch 7/60\n",
            "89/89 [==============================] - 133s 1s/step - loss: 7.9578 - accuracy: 0.8623 - val_loss: 9.2607 - val_accuracy: 0.7670\n",
            "Epoch 8/60\n",
            "89/89 [==============================] - 133s 1s/step - loss: 7.3033 - accuracy: 0.8840 - val_loss: 9.5231 - val_accuracy: 0.7344\n",
            "Epoch 9/60\n",
            "89/89 [==============================] - 135s 2s/step - loss: 7.5194 - accuracy: 0.8879 - val_loss: 8.8427 - val_accuracy: 0.7287\n",
            "Epoch 10/60\n",
            "89/89 [==============================] - 133s 1s/step - loss: 7.0822 - accuracy: 0.8964 - val_loss: 8.2852 - val_accuracy: 0.7557\n",
            "Epoch 11/60\n",
            "89/89 [==============================] - 132s 1s/step - loss: 6.7823 - accuracy: 0.8967 - val_loss: 8.4483 - val_accuracy: 0.8153\n",
            "Epoch 12/60\n",
            "89/89 [==============================] - 137s 2s/step - loss: 6.9770 - accuracy: 0.9063 - val_loss: 9.3897 - val_accuracy: 0.7003\n",
            "Epoch 13/60\n",
            "89/89 [==============================] - 136s 2s/step - loss: 7.4930 - accuracy: 0.9063 - val_loss: 6.9319 - val_accuracy: 0.8509\n",
            "Epoch 14/60\n",
            "89/89 [==============================] - 133s 1s/step - loss: 6.2920 - accuracy: 0.9116 - val_loss: 9.0314 - val_accuracy: 0.8409\n",
            "Epoch 15/60\n",
            "89/89 [==============================] - 132s 1s/step - loss: 7.7660 - accuracy: 0.9081 - val_loss: 8.5615 - val_accuracy: 0.6449\n",
            "Epoch 16/60\n",
            "89/89 [==============================] - 135s 2s/step - loss: 5.9562 - accuracy: 0.9340 - val_loss: 8.8128 - val_accuracy: 0.7812\n",
            "Epoch 17/60\n",
            "89/89 [==============================] - 138s 2s/step - loss: 7.1290 - accuracy: 0.9113 - val_loss: 8.6219 - val_accuracy: 0.7727\n",
            "Epoch 18/60\n",
            "89/89 [==============================] - 140s 2s/step - loss: 6.5084 - accuracy: 0.9223 - val_loss: 10.3852 - val_accuracy: 0.7116\n",
            "Epoch 19/60\n",
            "89/89 [==============================] - 136s 2s/step - loss: 7.6362 - accuracy: 0.9113 - val_loss: 5.9458 - val_accuracy: 0.8963\n",
            "Epoch 20/60\n",
            "89/89 [==============================] - 135s 2s/step - loss: 5.5270 - accuracy: 0.9255 - val_loss: 7.4900 - val_accuracy: 0.8182\n",
            "Epoch 21/60\n",
            "89/89 [==============================] - 134s 2s/step - loss: 6.2005 - accuracy: 0.9273 - val_loss: 6.3934 - val_accuracy: 0.8651\n",
            "Epoch 22/60\n",
            "89/89 [==============================] - 130s 1s/step - loss: 5.6084 - accuracy: 0.9365 - val_loss: 7.5712 - val_accuracy: 0.8438\n",
            "Epoch 23/60\n",
            "89/89 [==============================] - 135s 2s/step - loss: 6.6764 - accuracy: 0.9166 - val_loss: 7.1756 - val_accuracy: 0.8366\n",
            "Epoch 24/60\n",
            "89/89 [==============================] - 136s 2s/step - loss: 6.1907 - accuracy: 0.9241 - val_loss: 7.4659 - val_accuracy: 0.8395\n",
            "Epoch 25/60\n",
            "89/89 [==============================] - 136s 2s/step - loss: 6.1449 - accuracy: 0.9191 - val_loss: 6.7384 - val_accuracy: 0.8935\n",
            "Epoch 26/60\n",
            "89/89 [==============================] - 131s 1s/step - loss: 5.8434 - accuracy: 0.9304 - val_loss: 6.7748 - val_accuracy: 0.8338\n",
            "Epoch 27/60\n",
            "89/89 [==============================] - 135s 2s/step - loss: 5.7813 - accuracy: 0.9248 - val_loss: 7.4532 - val_accuracy: 0.8082\n",
            "Epoch 28/60\n",
            "89/89 [==============================] - 135s 2s/step - loss: 6.4977 - accuracy: 0.9194 - val_loss: 7.4071 - val_accuracy: 0.8381\n",
            "Epoch 29/60\n",
            "89/89 [==============================] - 134s 2s/step - loss: 6.4769 - accuracy: 0.9255 - val_loss: 6.2051 - val_accuracy: 0.8736\n",
            "Epoch 30/60\n",
            "89/89 [==============================] - 135s 2s/step - loss: 5.4567 - accuracy: 0.9379 - val_loss: 5.1521 - val_accuracy: 0.9219\n",
            "Epoch 31/60\n",
            "89/89 [==============================] - 140s 2s/step - loss: 4.8523 - accuracy: 0.9468 - val_loss: 6.3228 - val_accuracy: 0.8821\n",
            "Epoch 32/60\n",
            "89/89 [==============================] - 140s 2s/step - loss: 5.9437 - accuracy: 0.9379 - val_loss: 7.1814 - val_accuracy: 0.8565\n",
            "Epoch 33/60\n",
            "89/89 [==============================] - 140s 2s/step - loss: 6.2305 - accuracy: 0.9312 - val_loss: 7.7621 - val_accuracy: 0.8423\n",
            "Epoch 34/60\n",
            "89/89 [==============================] - 136s 2s/step - loss: 6.7526 - accuracy: 0.9237 - val_loss: 5.9887 - val_accuracy: 0.9062\n",
            "Epoch 35/60\n",
            "89/89 [==============================] - 137s 2s/step - loss: 5.3767 - accuracy: 0.9390 - val_loss: 5.9084 - val_accuracy: 0.8196\n",
            "Epoch 36/60\n",
            "89/89 [==============================] - 136s 2s/step - loss: 5.0050 - accuracy: 0.9500 - val_loss: 6.6194 - val_accuracy: 0.8239\n",
            "Epoch 37/60\n",
            "89/89 [==============================] - 139s 2s/step - loss: 5.8700 - accuracy: 0.9273 - val_loss: 5.8079 - val_accuracy: 0.8963\n",
            "Epoch 38/60\n",
            "89/89 [==============================] - 133s 1s/step - loss: 5.1314 - accuracy: 0.9475 - val_loss: 6.9969 - val_accuracy: 0.8920\n",
            "Epoch 39/60\n",
            "89/89 [==============================] - 136s 2s/step - loss: 6.6280 - accuracy: 0.9180 - val_loss: 5.7629 - val_accuracy: 0.8835\n",
            "Epoch 40/60\n",
            "89/89 [==============================] - 137s 2s/step - loss: 5.1223 - accuracy: 0.9496 - val_loss: 5.0833 - val_accuracy: 0.8991\n",
            "Epoch 41/60\n",
            "89/89 [==============================] - 132s 1s/step - loss: 4.6038 - accuracy: 0.9535 - val_loss: 5.4974 - val_accuracy: 0.8864\n",
            "Epoch 42/60\n",
            "89/89 [==============================] - 137s 2s/step - loss: 4.8768 - accuracy: 0.9500 - val_loss: 5.7533 - val_accuracy: 0.8935\n",
            "Epoch 43/60\n",
            "89/89 [==============================] - 134s 1s/step - loss: 5.1291 - accuracy: 0.9468 - val_loss: 5.4132 - val_accuracy: 0.8878\n",
            "Epoch 44/60\n",
            "89/89 [==============================] - 138s 2s/step - loss: 4.9110 - accuracy: 0.9478 - val_loss: 5.5883 - val_accuracy: 0.9006\n",
            "Epoch 45/60\n",
            "89/89 [==============================] - 134s 2s/step - loss: 5.1337 - accuracy: 0.9482 - val_loss: 5.8123 - val_accuracy: 0.9162\n",
            "Epoch 46/60\n",
            "89/89 [==============================] - 138s 2s/step - loss: 5.4286 - accuracy: 0.9443 - val_loss: 5.1366 - val_accuracy: 0.9034\n",
            "Epoch 47/60\n",
            "89/89 [==============================] - 134s 2s/step - loss: 4.7817 - accuracy: 0.9493 - val_loss: 4.8194 - val_accuracy: 0.8935\n",
            "Epoch 48/60\n",
            "89/89 [==============================] - 138s 2s/step - loss: 4.4888 - accuracy: 0.9556 - val_loss: 5.2785 - val_accuracy: 0.8849\n",
            "Epoch 49/60\n",
            "89/89 [==============================] - 135s 2s/step - loss: 4.8358 - accuracy: 0.9514 - val_loss: 5.1301 - val_accuracy: 0.9148\n",
            "Epoch 50/60\n",
            "89/89 [==============================] - 138s 2s/step - loss: 4.8365 - accuracy: 0.9524 - val_loss: 4.8007 - val_accuracy: 0.9233\n",
            "Epoch 51/60\n",
            "89/89 [==============================] - 140s 2s/step - loss: 4.6232 - accuracy: 0.9560 - val_loss: 5.3499 - val_accuracy: 0.8878\n",
            "Epoch 52/60\n",
            "89/89 [==============================] - 136s 2s/step - loss: 4.9958 - accuracy: 0.9454 - val_loss: 5.3889 - val_accuracy: 0.8963\n",
            "Epoch 53/60\n",
            "89/89 [==============================] - 140s 2s/step - loss: 5.3216 - accuracy: 0.9319 - val_loss: 5.2167 - val_accuracy: 0.9020\n",
            "Epoch 54/60\n",
            "89/89 [==============================] - 134s 1s/step - loss: 4.8597 - accuracy: 0.9489 - val_loss: 5.3888 - val_accuracy: 0.8182\n",
            "Epoch 55/60\n",
            "89/89 [==============================] - 135s 2s/step - loss: 4.9303 - accuracy: 0.9429 - val_loss: 5.4201 - val_accuracy: 0.8935\n",
            "Epoch 56/60\n",
            "89/89 [==============================] - 132s 1s/step - loss: 5.1022 - accuracy: 0.9482 - val_loss: 5.3706 - val_accuracy: 0.8991\n",
            "Epoch 57/60\n",
            "89/89 [==============================] - 137s 2s/step - loss: 5.2073 - accuracy: 0.9326 - val_loss: 5.3708 - val_accuracy: 0.8906\n",
            "Epoch 58/60\n",
            "89/89 [==============================] - 132s 1s/step - loss: 5.1005 - accuracy: 0.9411 - val_loss: 5.6706 - val_accuracy: 0.8580\n",
            "Epoch 59/60\n",
            "89/89 [==============================] - 135s 2s/step - loss: 5.2881 - accuracy: 0.9400 - val_loss: 5.7882 - val_accuracy: 0.8636\n",
            "Epoch 60/60\n",
            "89/89 [==============================] - 132s 1s/step - loss: 5.3808 - accuracy: 0.9429 - val_loss: 5.6080 - val_accuracy: 0.8750\n"
          ]
        }
      ],
      "source": [
        "# Training and testing the model\n",
        "epochs = 60\n",
        "learn_rate = 0.0025\n",
        "\n",
        "model.compile(optimizer=tf.keras.optimizers.Adam(learning_rate=learn_rate), loss=tf.keras.losses.SparseCategoricalCrossentropy(from_logits=True), metrics=['accuracy'])\n",
        "\n",
        "history = model.fit(train_data, validation_data=test_data, epochs=epochs) # Takes approximately 2 hours to train using the default machine of google colab"
      ]
    },
    {
      "cell_type": "code",
      "execution_count": 16,
      "metadata": {
        "id": "9jcdjSO0XAdz"
      },
      "outputs": [],
      "source": [
        "# Saving the model and its history into files\n",
        "\n",
        "model.save('/content/model/model_mobilenet.h5')\n",
        "with open('/content/model/history_mobilenet.json','w') as h:\n",
        "  json.dump(history.history, h)\n"
      ]
    },
    {
      "cell_type": "code",
      "execution_count": 17,
      "metadata": {
        "id": "8yHnoehwRDYW"
      },
      "outputs": [],
      "source": [
        "# Run cell to load the model using files\n",
        "history2 ={}\n",
        "# Load the model\n",
        "model2 = tf.keras.models.load_model('/content/drive/MyDrive/ISproject/model/model_mobilenet.h5')\n",
        "\n",
        "# Load the history\n",
        "with open('/content/drive/MyDrive/ISproject/model/history_mobilenet.json', 'r') as h:\n",
        "    history2 = json.load(h)"
      ]
    },
    {
      "cell_type": "code",
      "execution_count": 18,
      "metadata": {
        "colab": {
          "base_uri": "https://localhost:8080/",
          "height": 573
        },
        "id": "QP5R71VIRKTj",
        "outputId": "ccb207c2-11a1-454c-8791-fe244b474d07"
      },
      "outputs": [
        {
          "data": {
            "image/png": "[encoded data removed]",
            "text/plain": [
              "<Figure size 432x288 with 1 Axes>"
            ]
          },
          "metadata": {
            "needs_background": "light"
          },
          "output_type": "display_data"
        },
        {
          "data": {
            "image/png": "[encoded data removed]",
            "text/plain": [
              "<Figure size 432x288 with 1 Axes>"
            ]
          },
          "metadata": {
            "needs_background": "light"
          },
          "output_type": "display_data"
        }
      ],
      "source": [
        "# Graphing the accuracy and loss of the training and testing datasets\n",
        "\n",
        "# Extract the training and validation accuracy and loss values from the history object\n",
        "acc = history2['accuracy']\n",
        "val_acc = history2['val_accuracy']\n",
        "loss = history2['loss']\n",
        "val_loss = history2['val_loss']\n",
        "\n",
        "# Plot the training and validation accuracy\n",
        "plt.plot(acc, label='Training accuracy')\n",
        "plt.plot(val_acc, label='Validation accuracy')\n",
        "plt.ylim([0, 1])\n",
        "plt.title('Training and validation accuracy')\n",
        "plt.xlabel('Epoch')\n",
        "plt.ylabel('Accuracy')\n",
        "plt.legend()\n",
        "plt.show()\n",
        "\n",
        "# Plot the training and validation loss\n",
        "plt.plot(loss, label='Training loss')\n",
        "plt.plot(val_loss, label='Validation loss')\n",
        "plt.ylim([0,100])\n",
        "plt.title('Training and validation loss')\n",
        "plt.xlabel('Epoch')\n",
        "plt.ylabel('Loss')\n",
        "plt.legend()\n",
        "plt.show()"
      ]
    },
    {
      "cell_type": "code",
      "execution_count": 19,
      "metadata": {
        "colab": {
          "base_uri": "https://localhost:8080/"
        },
        "id": "qMRbT2GdUrYP",
        "outputId": "7c402e7f-bbfe-4470-aa22-ad9d6f055d71"
      },
      "outputs": [
        {
          "name": "stdout",
          "output_type": "stream",
          "text": [
            "1/1 [==============================] - 2s 2s/step\n",
            "1/1 [==============================] - 1s 1s/step\n",
            "1/1 [==============================] - 2s 2s/step\n",
            "1/1 [==============================] - 1s 1s/step\n",
            "1/1 [==============================] - 1s 1s/step\n",
            "1/1 [==============================] - 1s 1s/step\n",
            "1/1 [==============================] - 1s 1s/step\n",
            "1/1 [==============================] - 1s 1s/step\n",
            "1/1 [==============================] - 1s 1s/step\n",
            "1/1 [==============================] - 1s 1s/step\n",
            "1/1 [==============================] - 1s 1s/step\n",
            "1/1 [==============================] - 1s 1s/step\n",
            "1/1 [==============================] - 1s 1s/step\n",
            "1/1 [==============================] - 1s 1s/step\n",
            "1/1 [==============================] - 1s 1s/step\n",
            "1/1 [==============================] - 1s 1s/step\n",
            "1/1 [==============================] - 1s 1s/step\n",
            "1/1 [==============================] - 1s 1s/step\n",
            "1/1 [==============================] - 1s 1s/step\n",
            "1/1 [==============================] - 1s 1s/step\n",
            "1/1 [==============================] - 1s 1s/step\n",
            "1/1 [==============================] - 1s 1s/step\n"
          ]
        }
      ],
      "source": [
        "# Confusion matrix\n",
        "\n",
        "\n",
        "prediction = np.array([])\n",
        "true_val =  np.array([])\n",
        "for x, y in test_data: # Getting predicted and true values of the test data and putting it into a numpy array\n",
        "  prediction = np.concatenate([prediction, np.argmax(model.predict(x), axis = -1)])\n",
        "  true_val = np.concatenate([true_val, y])\n",
        "\n",
        "# Computing the confusion matrix\n",
        "conf_mat = tf.math.confusion_matrix(labels=true_val, predictions=prediction).numpy()\n",
        "\n",
        "\n",
        "\n"
      ]
    },
    {
      "cell_type": "code",
      "execution_count": 21,
      "metadata": {
        "colab": {
          "base_uri": "https://localhost:8080/",
          "height": 329
        },
        "id": "28VN5eaAkN6W",
        "outputId": "e794729e-0760-43c6-821a-f4a4936e7d8f"
      },
      "outputs": [
        {
          "data": {
            "text/plain": [
              "Text(0, 0.5, 'True label')"
            ]
          },
          "execution_count": 21,
          "metadata": {},
          "output_type": "execute_result"
        },
        {
          "data": {
            "image/png": "[encoded data removed]",
            "text/plain": [
              "<Figure size 432x288 with 2 Axes>"
            ]
          },
          "metadata": {
            "needs_background": "light"
          },
          "output_type": "display_data"
        }
      ],
      "source": [
        "# Plotting the computed confusion matrix\n",
        "plt.imshow(conf_mat, cmap='YlOrRd', interpolation='nearest')\n",
        "plt.colorbar()\n",
        "tick_marks = np.arange(len(class_name))\n",
        "plt.xticks(tick_marks, class_name, rotation=45)\n",
        "plt.yticks(tick_marks, class_name)\n",
        "for i, j in itertools.product(range(conf_mat.shape[0]), range(conf_mat.shape[1])):\n",
        "        plt.text(j, i, \"{:,}\".format(conf_mat[i, j]),\n",
        "                  horizontalalignment=\"center\",\n",
        "                  color=\"black\")\n",
        "plt.xlabel('Predicted label')\n",
        "plt.ylabel('True label')"
      ]
    },
    {
      "cell_type": "code",
      "execution_count": 22,
      "metadata": {
        "colab": {
          "base_uri": "https://localhost:8080/"
        },
        "id": "WodImQI9km8O",
        "outputId": "07bcf8c5-3a92-4bf0-8a48-262b818ea7fe"
      },
      "outputs": [
        {
          "name": "stdout",
          "output_type": "stream",
          "text": [
            "Model precision : {'cardboard': 0.9178082191780822, 'glass': 0.8495575221238938, 'metal': 0.9090909090909091, 'organic': 0.9512195121951219, 'paper': 0.9833333333333333, 'plastic': 0.6766917293233082, 'trash': 0.9385964912280702}\n",
            "Model precision (average of all classes): 0.8894711023532456\n",
            "\n",
            "Model recall : {'cardboard': 0.9852941176470589, 'glass': 0.9411764705882353, 'metal': 0.9302325581395349, 'organic': 0.975, 'paper': 0.5841584158415841, 'plastic': 0.8571428571428571, 'trash': 0.8770491803278688}\n",
            "Model recall (average of all classes): 0.8785790856695913\n",
            "\n",
            "Model F1-score : {'cardboard': 0.9503546099290779, 'glass': 0.8930232558139535, 'metal': 0.9195402298850575, 'organic': 0.9629629629629629, 'paper': 0.732919254658385, 'plastic': 0.7563025210084033, 'trash': 0.9067796610169491}\n",
            "Model F1-score (average of all classes): 0.8839915440510607\n"
          ]
        }
      ],
      "source": [
        "# Calculating the F1-score of the model\n",
        "\n",
        "# Calculate precision and recall \n",
        "precision = precision_score(true_val,prediction,average=None) # Precision of each individual class\n",
        "precision_dict = {}\n",
        "\n",
        "precision_avg = precision_score(true_val,prediction,average='macro') # Average precision of all classes\n",
        "\n",
        "\n",
        "recall = recall_score(true_val,prediction,average=None) # Recall of each individual class\n",
        "recall_dict = {}\n",
        "recall_avg = recall_score(true_val,prediction,average='macro') # Average recall of all classes\n",
        "\n",
        "\n",
        "f1_dict = {}\n",
        "for i in range(len(precision)): # Filling the dictionaries\n",
        "  precision_dict[class_name[i]] = precision[i]\n",
        "  recall_dict[class_name[i]] = recall[i]\n",
        "  f1_dict[class_name[i]] = 2 * (precision[i] * recall[i]) / (precision[i] + recall[i]) # Calculating f1 score per class\n",
        "\n",
        "# Calculate F1 score average\n",
        "f1 = 2 * (precision_avg * recall_avg) / (precision_avg + recall_avg)\n",
        "\n",
        "print(f\"Model precision : {precision_dict}\")\n",
        "print(f\"Model precision (average of all classes): {precision_avg}\\n\")\n",
        "print(f\"Model recall : {recall_dict}\")\n",
        "print(f\"Model recall (average of all classes): {recall_avg}\\n\")\n",
        "print(f\"Model F1-score : {f1_dict}\")\n",
        "print(f\"Model F1-score (average of all classes): {f1}\")"
      ]
    }
  ],
  "metadata": {
    "colab": {
      "provenance": []
    },
    "gpuClass": "standard",
    "kernelspec": {
      "display_name": "base",
      "language": "python",
      "name": "python3"
    },
    "language_info": {
      "name": "python",
      "version": "3.8.5 (default, Sep  3 2020, 21:29:08) [MSC v.1916 64 bit (AMD64)]"
    },
    "vscode": {
      "interpreter": {
        "hash": "0eed8868934389e5218ea90ecc658de53acf536114cd23b9811ca770ba68aaa5"
      }
    }
  },
  "nbformat": 4,
  "nbformat_minor": 0
}
