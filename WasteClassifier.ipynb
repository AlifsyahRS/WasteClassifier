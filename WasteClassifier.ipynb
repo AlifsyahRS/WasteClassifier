{
  "cells": [
    {
      "cell_type": "code",
      "execution_count": null,
      "metadata": {
        "id": "PFP6pPkMKe2C"
      },
      "outputs": [],
      "source": [
        "%matplotlib inline\n",
        "import numpy as np\n",
        "import matplotlib.pyplot as plt\n",
        "import random\n",
        "import tensorflow as tf\n",
        "import math\n",
        "import os\n",
        "from sklearn.linear_model import LinearRegression\n",
        "from sklearn.preprocessing import PolynomialFeatures, StandardScaler, LabelEncoder\n",
        "from sklearn.model_selection import train_test_split\n",
        "from sklearn.metrics import precision_score,recall_score\n",
        "import json\n",
        "import seaborn as sns\n",
        "import itertools"
      ]
    },
    {
      "cell_type": "code",
      "execution_count": null,
      "metadata": {
        "colab": {
          "base_uri": "https://localhost:8080/"
        },
        "id": "EMnr8ZvsGcoW",
        "outputId": "b914d00f-455a-46b8-f2ff-048c2a1c4470"
      },
      "outputs": [
        {
          "name": "stdout",
          "output_type": "stream",
          "text": [
            "Mounted at /content/drive\n"
          ]
        }
      ],
      "source": [
        "from google.colab import drive # Model was trained in google colab\n",
        "drive.mount('/content/drive') # Mounting the dataset from Google Drive to the Colab"
      ]
    },
    {
      "cell_type": "code",
      "execution_count": null,
      "metadata": {
        "colab": {
          "base_uri": "https://localhost:8080/"
        },
        "id": "WJ-YgUuFHMqC",
        "outputId": "12858661-87f9-4445-80e6-5bc0fc05e165"
      },
      "outputs": [
        {
          "name": "stdout",
          "output_type": "stream",
          "text": [
            "Found 3115 files belonging to 7 classes.\n",
            "Using 2492 files for training.\n",
            "Found 3115 files belonging to 7 classes.\n",
            "Using 623 files for validation.\n"
          ]
        }
      ],
      "source": [
        "# Loading the dataset\n",
        "DATA_DIR = '/content/drive/MyDrive/ISproject/Garbage_classification'\n",
        "\n",
        "\"\"\"\n",
        "The dataset used for training comprises of a combination of images from these two datasets:\n",
        " - Garbage Classification (https://www.kaggle.com/datasets/asdasdasasdas/garbage-classification)\n",
        " - Waste Classification Data V2 (https://www.kaggle.com/datasets/sapal6/waste-classification-data-v2) \n",
        "\n",
        "\n",
        "\"\"\"\n",
        "#Using Keras API from tensorflow to preprocess the dataset and resize them into 256x256 dimensions\n",
        "train_data = tf.keras.preprocessing.image_dataset_from_directory(DATA_DIR,validation_split=0.2,seed=42,subset=\"training\",smart_resize=True,image_size=(256,256)) # 80/20 train-test split\n",
        "\n",
        "test_data = tf.keras.preprocessing.image_dataset_from_directory(DATA_DIR,validation_split=0.2,seed=42,subset=\"validation\",smart_resize=True,image_size=(256,256))\n",
        "\n",
        "\n",
        "# Approximately a 80/20 split"
      ]
    },
    {
      "cell_type": "code",
      "execution_count": null,
      "metadata": {
        "colab": {
          "base_uri": "https://localhost:8080/"
        },
        "id": "AA4Tfo_qIZNr",
        "outputId": "01d9513f-6974-4e4a-c78c-79840513b723"
      },
      "outputs": [
        {
          "name": "stdout",
          "output_type": "stream",
          "text": [
            "['cardboard', 'glass', 'metal', 'organic', 'paper', 'plastic', 'trash']\n"
          ]
        }
      ],
      "source": [
        "class_name = train_data.class_names\n",
        "numClasses = len(class_name) # 7 classes\n",
        "print(class_name) # ['cardboard', 'glass', 'metal', 'organic', 'paper', 'plastic', 'trash']"
      ]
    },
    {
      "cell_type": "code",
      "execution_count": null,
      "metadata": {
        "colab": {
          "base_uri": "https://localhost:8080/"
        },
        "id": "_0Qwg6ipJAGb",
        "outputId": "48b16118-d5e3-4100-ddd6-16d35a6d9773"
      },
      "outputs": [
        {
          "name": "stderr",
          "output_type": "stream",
          "text": [
            "WARNING:tensorflow:`input_shape` is undefined or non-square, or `rows` is not 224. Weights for input shape (224, 224) will be loaded as the default.\n"
          ]
        },
        {
          "name": "stdout",
          "output_type": "stream",
          "text": [
            "Downloading data from https://storage.googleapis.com/tensorflow/keras-applications/mobilenet_v3/weights_mobilenet_v3_large_224_1.0_float_no_top_v2.h5\n",
            "12683000/12683000 [==============================] - 1s 0us/step\n"
          ]
        }
      ],
      "source": [
        "# Creating the model\n",
        "\n",
        "baseModel = tf.keras.applications.MobileNetV3Large(input_shape=(256, 256,3), weights='imagenet', include_top=False, classes=numClasses) # Pulling a pre-trained model from Keras to put on top of our own layers\n",
        "for layers in baseModel.layers[:-6]: # Might change the model later\n",
        "  layers.trainable=False\n",
        "\n",
        "last_output = baseModel.layers[-1].output\n",
        "x = tf.keras.layers.Dropout(0.45) (last_output)\n",
        "x = tf.keras.layers.GlobalAveragePooling2D()(x)\n",
        "x = tf.keras.layers.BatchNormalization() (x)\n",
        "x = tf.keras.layers.Dense(256, activation = tf.keras.activations.elu, kernel_regularizer=tf.keras.regularizers.l1(0.045), activity_regularizer=tf.keras.regularizers.l1(0.045),  kernel_initializer='he_normal')(x)\n",
        "x = tf.keras.layers.Dropout(0.45) (x)\n",
        "x = tf.keras.layers.Dense(numClasses, activation='softmax')(x) # Using softmax as an activation function since it specializes in multiple class classification\n",
        "\n",
        "model = tf.keras.Model(inputs=baseModel.input,outputs=x)"
      ]
    },
    {
      "cell_type": "code",
      "execution_count": null,
      "metadata": {
        "colab": {
          "base_uri": "https://localhost:8080/"
        },
        "id": "zScb70qv1WE1",
        "outputId": "ae53584c-192c-4d21-c431-651ad0576557"
      },
      "outputs": [
        {
          "name": "stdout",
          "output_type": "stream",
          "text": [
            "Epoch 1/60\n",
            "78/78 [==============================] - 633s 8s/step - loss: 29.0413 - accuracy: 0.7588 - val_loss: 6.9113 - val_accuracy: 0.7143\n",
            "Epoch 2/60\n",
            "78/78 [==============================] - 143s 2s/step - loss: 6.7115 - accuracy: 0.7881 - val_loss: 6.7344 - val_accuracy: 0.7255\n",
            "Epoch 3/60\n",
            "78/78 [==============================] - 138s 2s/step - loss: 6.8235 - accuracy: 0.8238 - val_loss: 7.0497 - val_accuracy: 0.7191\n",
            "Epoch 4/60\n",
            "78/78 [==============================] - 144s 2s/step - loss: 6.7756 - accuracy: 0.8567 - val_loss: 7.3932 - val_accuracy: 0.7255\n",
            "Epoch 5/60\n",
            "78/78 [==============================] - 140s 2s/step - loss: 6.7578 - accuracy: 0.8732 - val_loss: 7.0502 - val_accuracy: 0.8218\n",
            "Epoch 6/60\n",
            "78/78 [==============================] - 141s 2s/step - loss: 6.7577 - accuracy: 0.8880 - val_loss: 6.5825 - val_accuracy: 0.8202\n",
            "Epoch 7/60\n",
            "78/78 [==============================] - 141s 2s/step - loss: 6.4929 - accuracy: 0.9017 - val_loss: 6.7074 - val_accuracy: 0.7978\n",
            "Epoch 8/60\n",
            "78/78 [==============================] - 134s 2s/step - loss: 6.5490 - accuracy: 0.8985 - val_loss: 7.3009 - val_accuracy: 0.8202\n",
            "Epoch 9/60\n",
            "78/78 [==============================] - 137s 2s/step - loss: 6.6455 - accuracy: 0.9013 - val_loss: 7.1769 - val_accuracy: 0.7833\n",
            "Epoch 10/60\n",
            "78/78 [==============================] - 136s 2s/step - loss: 6.2548 - accuracy: 0.9201 - val_loss: 7.7674 - val_accuracy: 0.7384\n",
            "Epoch 11/60\n",
            "78/78 [==============================] - 135s 2s/step - loss: 6.1688 - accuracy: 0.9286 - val_loss: 6.5720 - val_accuracy: 0.8555\n",
            "Epoch 12/60\n",
            "78/78 [==============================] - 135s 2s/step - loss: 6.1728 - accuracy: 0.9234 - val_loss: 6.5803 - val_accuracy: 0.8796\n",
            "Epoch 13/60\n",
            "78/78 [==============================] - 136s 2s/step - loss: 6.1795 - accuracy: 0.9322 - val_loss: 6.8724 - val_accuracy: 0.8860\n",
            "Epoch 14/60\n",
            "78/78 [==============================] - 131s 2s/step - loss: 5.8995 - accuracy: 0.9390 - val_loss: 6.4120 - val_accuracy: 0.8796\n",
            "Epoch 15/60\n",
            "78/78 [==============================] - 134s 2s/step - loss: 6.1044 - accuracy: 0.9382 - val_loss: 6.4004 - val_accuracy: 0.8684\n",
            "Epoch 16/60\n",
            "78/78 [==============================] - 136s 2s/step - loss: 5.9053 - accuracy: 0.9434 - val_loss: 6.8116 - val_accuracy: 0.7303\n",
            "Epoch 17/60\n",
            "78/78 [==============================] - 138s 2s/step - loss: 5.6381 - accuracy: 0.9486 - val_loss: 5.9635 - val_accuracy: 0.8716\n",
            "Epoch 18/60\n",
            "78/78 [==============================] - 137s 2s/step - loss: 5.7600 - accuracy: 0.9446 - val_loss: 6.2228 - val_accuracy: 0.8925\n",
            "Epoch 19/60\n",
            "78/78 [==============================] - 138s 2s/step - loss: 5.6742 - accuracy: 0.9526 - val_loss: 6.1478 - val_accuracy: 0.9021\n",
            "Epoch 20/60\n",
            "78/78 [==============================] - 135s 2s/step - loss: 5.4101 - accuracy: 0.9675 - val_loss: 5.7815 - val_accuracy: 0.9213\n",
            "Epoch 21/60\n",
            "78/78 [==============================] - 135s 2s/step - loss: 5.3034 - accuracy: 0.9675 - val_loss: 5.6784 - val_accuracy: 0.9117\n",
            "Epoch 22/60\n",
            "78/78 [==============================] - 136s 2s/step - loss: 5.1672 - accuracy: 0.9711 - val_loss: 6.1933 - val_accuracy: 0.8379\n",
            "Epoch 23/60\n",
            "78/78 [==============================] - 138s 2s/step - loss: 5.8260 - accuracy: 0.9510 - val_loss: 5.9946 - val_accuracy: 0.8716\n",
            "Epoch 24/60\n",
            "78/78 [==============================] - 139s 2s/step - loss: 5.4851 - accuracy: 0.9555 - val_loss: 5.7011 - val_accuracy: 0.8684\n",
            "Epoch 25/60\n",
            "78/78 [==============================] - 138s 2s/step - loss: 5.3200 - accuracy: 0.9599 - val_loss: 6.0889 - val_accuracy: 0.8604\n",
            "Epoch 26/60\n",
            "78/78 [==============================] - 134s 2s/step - loss: 5.1404 - accuracy: 0.9687 - val_loss: 5.3805 - val_accuracy: 0.8684\n",
            "Epoch 27/60\n",
            "78/78 [==============================] - 138s 2s/step - loss: 5.0606 - accuracy: 0.9735 - val_loss: 5.3859 - val_accuracy: 0.9085\n",
            "Epoch 28/60\n",
            "78/78 [==============================] - 139s 2s/step - loss: 5.1555 - accuracy: 0.9639 - val_loss: 5.2851 - val_accuracy: 0.9165\n",
            "Epoch 29/60\n",
            "78/78 [==============================] - 138s 2s/step - loss: 4.9800 - accuracy: 0.9735 - val_loss: 5.0592 - val_accuracy: 0.9069\n",
            "Epoch 30/60\n",
            "78/78 [==============================] - 137s 2s/step - loss: 4.9927 - accuracy: 0.9695 - val_loss: 5.8759 - val_accuracy: 0.9021\n",
            "Epoch 31/60\n",
            "78/78 [==============================] - 137s 2s/step - loss: 5.1775 - accuracy: 0.9683 - val_loss: 5.2331 - val_accuracy: 0.9069\n",
            "Epoch 32/60\n",
            "78/78 [==============================] - 136s 2s/step - loss: 4.9928 - accuracy: 0.9747 - val_loss: 5.3990 - val_accuracy: 0.8909\n",
            "Epoch 33/60\n",
            "78/78 [==============================] - 140s 2s/step - loss: 4.9714 - accuracy: 0.9755 - val_loss: 5.2064 - val_accuracy: 0.8957\n",
            "Epoch 34/60\n",
            "78/78 [==============================] - 138s 2s/step - loss: 4.9818 - accuracy: 0.9691 - val_loss: 5.1629 - val_accuracy: 0.9021\n",
            "Epoch 35/60\n",
            "78/78 [==============================] - 138s 2s/step - loss: 4.8850 - accuracy: 0.9759 - val_loss: 4.9150 - val_accuracy: 0.9213\n",
            "Epoch 36/60\n",
            "78/78 [==============================] - 139s 2s/step - loss: 4.8161 - accuracy: 0.9755 - val_loss: 5.1682 - val_accuracy: 0.8828\n",
            "Epoch 37/60\n",
            "78/78 [==============================] - 136s 2s/step - loss: 5.0980 - accuracy: 0.9651 - val_loss: 5.0358 - val_accuracy: 0.9021\n",
            "Epoch 38/60\n",
            "78/78 [==============================] - 139s 2s/step - loss: 4.9163 - accuracy: 0.9715 - val_loss: 5.0298 - val_accuracy: 0.9230\n",
            "Epoch 39/60\n",
            "78/78 [==============================] - 138s 2s/step - loss: 4.7876 - accuracy: 0.9743 - val_loss: 5.1636 - val_accuracy: 0.8973\n",
            "Epoch 40/60\n",
            "78/78 [==============================] - 136s 2s/step - loss: 4.8296 - accuracy: 0.9719 - val_loss: 5.2636 - val_accuracy: 0.8989\n",
            "Epoch 41/60\n",
            "78/78 [==============================] - 140s 2s/step - loss: 4.7418 - accuracy: 0.9759 - val_loss: 4.7778 - val_accuracy: 0.9294\n",
            "Epoch 42/60\n",
            "78/78 [==============================] - 134s 2s/step - loss: 4.7635 - accuracy: 0.9735 - val_loss: 4.9173 - val_accuracy: 0.9230\n",
            "Epoch 43/60\n",
            "78/78 [==============================] - 139s 2s/step - loss: 4.6982 - accuracy: 0.9767 - val_loss: 5.0946 - val_accuracy: 0.9165\n",
            "Epoch 44/60\n",
            "78/78 [==============================] - 139s 2s/step - loss: 4.8092 - accuracy: 0.9751 - val_loss: 4.7736 - val_accuracy: 0.9230\n",
            "Epoch 45/60\n",
            "78/78 [==============================] - 137s 2s/step - loss: 4.7227 - accuracy: 0.9719 - val_loss: 4.9228 - val_accuracy: 0.9230\n",
            "Epoch 46/60\n",
            "78/78 [==============================] - 138s 2s/step - loss: 4.8847 - accuracy: 0.9659 - val_loss: 5.0943 - val_accuracy: 0.9005\n",
            "Epoch 47/60\n",
            "78/78 [==============================] - 135s 2s/step - loss: 4.7405 - accuracy: 0.9755 - val_loss: 5.3564 - val_accuracy: 0.8876\n",
            "Epoch 48/60\n",
            "78/78 [==============================] - 140s 2s/step - loss: 4.6781 - accuracy: 0.9759 - val_loss: 5.0799 - val_accuracy: 0.9246\n",
            "Epoch 49/60\n",
            "78/78 [==============================] - 136s 2s/step - loss: 4.6909 - accuracy: 0.9743 - val_loss: 4.7436 - val_accuracy: 0.9342\n",
            "Epoch 50/60\n",
            "78/78 [==============================] - 140s 2s/step - loss: 4.6399 - accuracy: 0.9775 - val_loss: 4.8375 - val_accuracy: 0.9197\n",
            "Epoch 51/60\n",
            "78/78 [==============================] - 137s 2s/step - loss: 4.6665 - accuracy: 0.9747 - val_loss: 4.7722 - val_accuracy: 0.9085\n",
            "Epoch 52/60\n",
            "78/78 [==============================] - 1046s 14s/step - loss: 4.6564 - accuracy: 0.9755 - val_loss: 5.0221 - val_accuracy: 0.9165\n",
            "Epoch 53/60\n",
            "78/78 [==============================] - 136s 2s/step - loss: 4.7130 - accuracy: 0.9727 - val_loss: 4.7300 - val_accuracy: 0.9230\n",
            "Epoch 54/60\n",
            "78/78 [==============================] - 140s 2s/step - loss: 4.5172 - accuracy: 0.9779 - val_loss: 4.6666 - val_accuracy: 0.9213\n",
            "Epoch 55/60\n",
            "78/78 [==============================] - 141s 2s/step - loss: 4.6270 - accuracy: 0.9719 - val_loss: 4.9333 - val_accuracy: 0.9149\n",
            "Epoch 56/60\n",
            "78/78 [==============================] - 136s 2s/step - loss: 4.5755 - accuracy: 0.9767 - val_loss: 4.7281 - val_accuracy: 0.9213\n",
            "Epoch 57/60\n",
            "78/78 [==============================] - 140s 2s/step - loss: 4.5594 - accuracy: 0.9775 - val_loss: 4.8938 - val_accuracy: 0.9165\n",
            "Epoch 58/60\n",
            "78/78 [==============================] - 135s 2s/step - loss: 4.9430 - accuracy: 0.9671 - val_loss: 4.7158 - val_accuracy: 0.9278\n",
            "Epoch 59/60\n",
            "78/78 [==============================] - 140s 2s/step - loss: 4.6536 - accuracy: 0.9735 - val_loss: 4.7756 - val_accuracy: 0.9085\n",
            "Epoch 60/60\n",
            "78/78 [==============================] - 138s 2s/step - loss: 4.6800 - accuracy: 0.9695 - val_loss: 4.8125 - val_accuracy: 0.9246\n"
          ]
        }
      ],
      "source": [
        "# Training and testing the model\n",
        "epochs = 60\n",
        "learn_rate = 0.0025\n",
        "\n",
        "model.compile(optimizer=tf.keras.optimizers.Adam(learning_rate=learn_rate), loss=tf.keras.losses.SparseCategoricalCrossentropy(from_logits=True), metrics=['accuracy'])\n",
        "\n",
        "history = model.fit(train_data, validation_data=test_data, epochs=epochs) # Takes approximately 2 hours to train using the default machine of google colab"
      ]
    },
    {
      "cell_type": "code",
      "execution_count": null,
      "metadata": {
        "id": "9jcdjSO0XAdz"
      },
      "outputs": [],
      "source": [
        "# Saving the model and its history into files\n",
        "\n",
        "model.save('/content/model/model.h5')\n",
        "with open('/content/model/history.json','w') as h:\n",
        "  json.dump(history.history, h)\n"
      ]
    },
    {
      "cell_type": "code",
      "execution_count": null,
      "metadata": {
        "id": "8yHnoehwRDYW"
      },
      "outputs": [],
      "source": [
        "# Run cell to load the model using files\n",
        "\n",
        "# Load the model\n",
        "model = tf.keras.models.load_model('/content/drive/MyDrive/ISproject/model/model.h5')\n",
        "\n",
        "# Load the history\n",
        "with open('/content/drive/MyDrive/ISproject/model/history.json', 'r') as h:\n",
        "    history = json.load(h)"
      ]
    },
    {
      "cell_type": "code",
      "execution_count": null,
      "metadata": {
        "colab": {
          "base_uri": "https://localhost:8080/",
          "height": 573
        },
        "id": "QP5R71VIRKTj",
        "outputId": "d1972473-c48f-4221-822f-b4d7da8cddf9"
      },
      "outputs": [
        {
          "data": {
            "image/png": "[encoded data removed]",
            "text/plain": [
              "<Figure size 432x288 with 1 Axes>"
            ]
          },
          "metadata": {
            "needs_background": "light"
          },
          "output_type": "display_data"
        },
        {
          "data": {
            "image/png": "[encoded data removed]",
            "text/plain": [
              "<Figure size 432x288 with 1 Axes>"
            ]
          },
          "metadata": {
            "needs_background": "light"
          },
          "output_type": "display_data"
        }
      ],
      "source": [
        "# Graphing the accuracy and loss of the training and testing datasets\n",
        "\n",
        "# Extract the training and validation accuracy and loss values from the history object\n",
        "acc = history['accuracy']\n",
        "val_acc = history['val_accuracy']\n",
        "loss = history['loss']\n",
        "val_loss = history['val_loss']\n",
        "\n",
        "# Plot the training and validation accuracy\n",
        "plt.plot(acc, label='Training accuracy')\n",
        "plt.plot(val_acc, label='Validation accuracy')\n",
        "plt.ylim([0, 1])\n",
        "plt.title('Training and validation accuracy')\n",
        "plt.xlabel('Epoch')\n",
        "plt.ylabel('Accuracy')\n",
        "plt.legend()\n",
        "plt.show()\n",
        "\n",
        "# Plot the training and validation loss\n",
        "plt.plot(loss, label='Training loss')\n",
        "plt.plot(val_loss, label='Validation loss')\n",
        "plt.ylim([0,100])\n",
        "plt.title('Training and validation loss')\n",
        "plt.xlabel('Epoch')\n",
        "plt.ylabel('Loss')\n",
        "plt.legend()\n",
        "plt.show()"
      ]
    },
    {
      "cell_type": "code",
      "execution_count": null,
      "metadata": {
        "colab": {
          "base_uri": "https://localhost:8080/"
        },
        "id": "qMRbT2GdUrYP",
        "outputId": "2fd9d22e-7a92-4571-d2f0-23ba6f6ed44c"
      },
      "outputs": [
        {
          "name": "stdout",
          "output_type": "stream",
          "text": [
            "1/1 [==============================] - 3s 3s/step\n",
            "1/1 [==============================] - 1s 1s/step\n",
            "1/1 [==============================] - 1s 1s/step\n",
            "1/1 [==============================] - 1s 1s/step\n",
            "1/1 [==============================] - 3s 3s/step\n",
            "1/1 [==============================] - 2s 2s/step\n",
            "1/1 [==============================] - 1s 1s/step\n",
            "1/1 [==============================] - 1s 1s/step\n",
            "1/1 [==============================] - 1s 1s/step\n",
            "1/1 [==============================] - 1s 1s/step\n",
            "1/1 [==============================] - 1s 1s/step\n",
            "1/1 [==============================] - 1s 1s/step\n",
            "1/1 [==============================] - 1s 1s/step\n",
            "1/1 [==============================] - 1s 1s/step\n",
            "1/1 [==============================] - 1s 1s/step\n",
            "1/1 [==============================] - 1s 1s/step\n",
            "1/1 [==============================] - 1s 1s/step\n",
            "1/1 [==============================] - 1s 1s/step\n",
            "1/1 [==============================] - 1s 1s/step\n",
            "1/1 [==============================] - 2s 2s/step\n"
          ]
        }
      ],
      "source": [
        "# Confusion matrix\n",
        "\n",
        "\n",
        "prediction = np.array([])\n",
        "true_val =  np.array([])\n",
        "for x, y in test_data: # Getting predicted and true values of the test data and putting it into a numpy array\n",
        "  prediction = np.concatenate([prediction, np.argmax(model.predict(x), axis = -1)])\n",
        "  true_val = np.concatenate([true_val, y])\n",
        "\n",
        "# Computing the confusion matrix\n",
        "conf_mat = tf.math.confusion_matrix(labels=true_val, predictions=prediction).numpy()\n",
        "\n",
        "\n",
        "\n"
      ]
    },
    {
      "cell_type": "code",
      "execution_count": null,
      "metadata": {
        "colab": {
          "base_uri": "https://localhost:8080/",
          "height": 334
        },
        "id": "28VN5eaAkN6W",
        "outputId": "3e8f14a0-b500-4dc6-b51a-d57f6c18be1f"
      },
      "outputs": [
        {
          "data": {
            "text/plain": [
              "Text(0, 0.5, 'True label')"
            ]
          },
          "execution_count": 9,
          "metadata": {},
          "output_type": "execute_result"
        },
        {
          "data": {
            "image/png": "[encoded data removed]",
            "text/plain": [
              "<Figure size 432x288 with 2 Axes>"
            ]
          },
          "metadata": {
            "needs_background": "light"
          },
          "output_type": "display_data"
        }
      ],
      "source": [
        "# Plotting the computed confusion matrix\n",
        "plt.imshow(conf_mat, cmap='YlOrRd', interpolation='nearest')\n",
        "plt.colorbar()\n",
        "tick_marks = np.arange(len(class_name))\n",
        "plt.xticks(tick_marks, class_name, rotation=45)\n",
        "plt.yticks(tick_marks, class_name)\n",
        "for i, j in itertools.product(range(conf_mat.shape[0]), range(conf_mat.shape[1])):\n",
        "        plt.text(j, i, \"{:,}\".format(conf_mat[i, j]),\n",
        "                  horizontalalignment=\"center\",\n",
        "                  color=\"black\")\n",
        "plt.xlabel('Predicted label')\n",
        "plt.ylabel('True label')"
      ]
    },
    {
      "cell_type": "code",
      "execution_count": null,
      "metadata": {
        "colab": {
          "base_uri": "https://localhost:8080/"
        },
        "id": "WodImQI9km8O",
        "outputId": "542f3cdb-fb36-4ebe-ad59-e620bb95edb1"
      },
      "outputs": [
        {
          "name": "stdout",
          "output_type": "stream",
          "text": [
            "Model precision : {'cardboard': 0.9315068493150684, 'glass': 0.8981481481481481, 'metal': 0.8586956521739131, 'organic': 1.0, 'paper': 0.9591836734693877, 'plastic': 0.9047619047619048, 'trash': 0.8518518518518519}\n",
            "Model precision (average of all classes): 0.9148782971028965\n",
            "\n",
            "Model recall : {'cardboard': 0.9855072463768116, 'glass': 0.9326923076923077, 'metal': 0.8777777777777778, 'organic': 0.9917355371900827, 'paper': 0.9215686274509803, 'plastic': 0.9223300970873787, 'trash': 0.6764705882352942}\n",
            "Model recall (average of all classes): 0.9011545974015192\n",
            "\n",
            "Model F1-score : {'cardboard': 0.9577464788732394, 'glass': 0.9150943396226415, 'metal': 0.868131868131868, 'organic': 0.995850622406639, 'paper': 0.9400000000000001, 'plastic': 0.9134615384615385, 'trash': 0.7540983606557378}\n",
            "Model F1-score (average of all classes): 0.9079645924829292\n"
          ]
        }
      ],
      "source": [
        "# Calculating the F1-score of the model\n",
        "\n",
        "# Calculate precision and recall \n",
        "precision = precision_score(true_val,prediction,average=None) # Precision of each individual class\n",
        "precision_dict = {}\n",
        "\n",
        "precision_avg = precision_score(true_val,prediction,average='macro') # Average precision of all classes\n",
        "\n",
        "\n",
        "recall = recall_score(true_val,prediction,average=None) # Recall of each individual class\n",
        "recall_dict = {}\n",
        "recall_avg = recall_score(true_val,prediction,average='macro') # Average recall of all classes\n",
        "\n",
        "\n",
        "f1_dict = {}\n",
        "for i in range(len(precision)): # Filling the dictionaries\n",
        "  precision_dict[class_name[i]] = precision[i]\n",
        "  recall_dict[class_name[i]] = recall[i]\n",
        "  f1_dict[class_name[i]] = 2 * (precision[i] * recall[i]) / (precision[i] + recall[i]) # Calculating f1 score per class\n",
        "\n",
        "# Calculate F1 score average\n",
        "f1 = 2 * (precision_avg * recall_avg) / (precision_avg + recall_avg)\n",
        "\n",
        "print(f\"Model precision : {precision_dict}\")\n",
        "print(f\"Model precision (average of all classes): {precision_avg}\\n\")\n",
        "print(f\"Model recall : {recall_dict}\")\n",
        "print(f\"Model recall (average of all classes): {recall_avg}\\n\")\n",
        "print(f\"Model F1-score : {f1_dict}\")\n",
        "print(f\"Model F1-score (average of all classes): {f1}\")"
      ]
    },
    {
      "cell_type": "code",
      "execution_count": null,
      "metadata": {
        "colab": {
          "base_uri": "https://localhost:8080/"
        },
        "id": "_8_XirVvJ6eg",
        "outputId": "deb3480b-e566-4517-eda4-1cb2494effd0"
      },
      "outputs": [
        {
          "name": "stdout",
          "output_type": "stream",
          "text": [
            "1/1 [==============================] - 0s 46ms/step\n",
            "Prediction: cardboard (93.96062469482422%)\n"
          ]
        }
      ],
      "source": [
        "# Model's Prediction using other pieces of waste as example\n",
        "# Will add this with the picture of waste such as water bottle.\n",
        "path = '/content/cardboard2.jpg'\n",
        "img = tf.keras.preprocessing.image.load_img(path, target_size=(256, 256))\n",
        "img_array = tf.keras.preprocessing.image.img_to_array(img)\n",
        "img_array = tf.expand_dims(img_array, 0) \n",
        "\n",
        "predictions = model.predict(img_array)\n",
        "\n",
        "max_index = np.argmax(predictions[0])\n",
        "print(f\"Prediction: {class_name[max_index]} ({max(predictions[0]*100)}%)\")"
      ]
    },
    {
      "cell_type": "code",
      "execution_count": null,
      "metadata": {
        "colab": {
          "base_uri": "https://localhost:8080/"
        },
        "id": "zr07vR_48wZ1",
        "outputId": "ad8076b1-286f-4e8f-f5b5-ebfaff62fbaf"
      },
      "outputs": [
        {
          "name": "stdout",
          "output_type": "stream",
          "text": [
            "1/1 [==============================] - 0s 67ms/step\n",
            "Prediction: plastic (94.33612823486328%)\n"
          ]
        }
      ],
      "source": [
        "# Model's Prediction using other pieces of waste as example\n",
        "# Will add this with the picture of waste such as water bottle.\n",
        "path = '/content/bottle.jpeg'\n",
        "img = tf.keras.preprocessing.image.load_img(path, target_size=(256, 256))\n",
        "img_array = tf.keras.preprocessing.image.img_to_array(img)\n",
        "img_array = tf.expand_dims(img_array, 0) \n",
        "\n",
        "predictions = model.predict(img_array)\n",
        "\n",
        "max_index = np.argmax(predictions[0])\n",
        "print(f\"Prediction: {class_name[max_index]} ({max(predictions[0]*100)}%)\")"
      ]
    },
    {
      "cell_type": "code",
      "execution_count": null,
      "metadata": {
        "colab": {
          "base_uri": "https://localhost:8080/"
        },
        "id": "AcWbzUKKR41D",
        "outputId": "c09e5d50-84ac-46db-f250-932cc4b81992"
      },
      "outputs": [
        {
          "name": "stdout",
          "output_type": "stream",
          "text": [
            "1/1 [==============================] - 0s 73ms/step\n",
            "Prediction: cardboard (51.66453552246094%)\n"
          ]
        }
      ],
      "source": [
        "path = '/content/tebs.jpeg'\n",
        "img = tf.keras.preprocessing.image.load_img(path, target_size=(256, 256))\n",
        "img_array = tf.keras.preprocessing.image.img_to_array(img)\n",
        "img_array = tf.expand_dims(img_array, 0) \n",
        "\n",
        "predictions = model.predict(img_array)\n",
        "\n",
        "max_index = np.argmax(predictions[0])\n",
        "print(f\"Prediction: {class_name[max_index]} ({max(predictions[0]*100)}%)\")"
      ]
    }
  ],
  "metadata": {
    "colab": {
      "provenance": []
    },
    "gpuClass": "standard",
    "kernelspec": {
      "display_name": "Python 3",
      "name": "python3"
    },
    "language_info": {
      "name": "python"
    }
  },
  "nbformat": 4,
  "nbformat_minor": 0
}
