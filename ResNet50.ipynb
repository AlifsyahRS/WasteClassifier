{
  "cells": [
    {
      "attachments": {},
      "cell_type": "markdown",
      "metadata": {},
      "source": [
        "Training and evaluation results of ResNet50"
      ]
    },
    {
      "cell_type": "code",
      "execution_count": 41,
      "metadata": {
        "id": "IaQLqUpLrZAT"
      },
      "outputs": [],
      "source": [
        "%matplotlib inline\n",
        "import numpy as np\n",
        "import matplotlib.pyplot as plt\n",
        "import random\n",
        "import tensorflow as tf\n",
        "import math\n",
        "import os\n",
        "from sklearn.linear_model import LinearRegression\n",
        "from sklearn.preprocessing import PolynomialFeatures, StandardScaler, LabelEncoder\n",
        "from sklearn.model_selection import train_test_split\n",
        "from sklearn.metrics import precision_score,recall_score\n",
        "import json\n",
        "import seaborn as sns\n",
        "import itertools"
      ]
    },
    {
      "cell_type": "code",
      "execution_count": 42,
      "metadata": {
        "colab": {
          "base_uri": "https://localhost:8080/"
        },
        "id": "uiPf4XgzraGz",
        "outputId": "94111822-d418-44ab-da56-3b3cfca61d22"
      },
      "outputs": [
        {
          "name": "stdout",
          "output_type": "stream",
          "text": [
            "Drive already mounted at /content/drive; to attempt to forcibly remount, call drive.mount(\"/content/drive\", force_remount=True).\n"
          ]
        }
      ],
      "source": [
        "from google.colab import drive # Model was trained in google colab\n",
        "drive.mount('/content/drive') # Mounting the dataset from Google Drive to the Colab"
      ]
    },
    {
      "cell_type": "code",
      "execution_count": 43,
      "metadata": {
        "colab": {
          "base_uri": "https://localhost:8080/"
        },
        "id": "5Sya1QiurkMS",
        "outputId": "a8b43bbb-a6b2-4a33-a9f6-92a892056b11"
      },
      "outputs": [
        {
          "name": "stdout",
          "output_type": "stream",
          "text": [
            "Found 3522 files belonging to 7 classes.\n",
            "Using 2818 files for training.\n",
            "Found 3522 files belonging to 7 classes.\n",
            "Using 704 files for validation.\n"
          ]
        }
      ],
      "source": [
        "# Loading the dataset\n",
        "DATA_DIR = '/content/drive/MyDrive/ISproject/Garbage_classification'\n",
        "\n",
        "# Dataset is a combination of multiple images handpicked from datasets that are available online\n",
        "\n",
        "#Using Keras API from tensorflow to preprocess the dataset and resize them into 256x256 dimensions\n",
        "train_data = tf.keras.preprocessing.image_dataset_from_directory(DATA_DIR,validation_split=0.2,seed=42,subset=\"training\",smart_resize=True,image_size=(256,256)) # 80/20 train-test split\n",
        "\n",
        "test_data = tf.keras.preprocessing.image_dataset_from_directory(DATA_DIR,validation_split=0.2,seed=42,subset=\"validation\",smart_resize=True,image_size=(256,256))\n",
        "\n",
        "\n",
        "# Approximately a 80/20 split"
      ]
    },
    {
      "cell_type": "code",
      "execution_count": 44,
      "metadata": {
        "colab": {
          "base_uri": "https://localhost:8080/"
        },
        "id": "yIRUAbo1sRgR",
        "outputId": "7469466d-1b4e-4eba-b7fa-fa0ffb248de1"
      },
      "outputs": [
        {
          "name": "stdout",
          "output_type": "stream",
          "text": [
            "['cardboard', 'glass', 'metal', 'organic', 'paper', 'plastic', 'trash']\n"
          ]
        }
      ],
      "source": [
        "class_name = train_data.class_names\n",
        "numClasses = len(class_name) # 7 classes\n",
        "print(class_name) # ['cardboard', 'glass', 'metal', 'organic', 'paper', 'plastic', 'trash']"
      ]
    },
    {
      "cell_type": "code",
      "execution_count": 45,
      "metadata": {
        "id": "dQN658yXsUFF"
      },
      "outputs": [],
      "source": [
        "baseModel = tf.keras.applications.resnet50.ResNet50(input_shape=(256, 256,3), weights='imagenet', include_top=False, classes=numClasses) # Pulling a pre-trained model from Keras to put on top of our own layers\n",
        "for layers in baseModel.layers[:-6]: # Might change the model later\n",
        "  layers.trainable=False\n",
        "\n",
        "last_output = baseModel.layers[-1].output\n",
        "x = tf.keras.layers.Dropout(0.45) (last_output)\n",
        "x = tf.keras.layers.GlobalAveragePooling2D()(x)\n",
        "x = tf.keras.layers.BatchNormalization() (x)\n",
        "x = tf.keras.layers.Dense(256, activation = tf.keras.activations.elu, kernel_regularizer=tf.keras.regularizers.l1(0.045), activity_regularizer=tf.keras.regularizers.l1(0.045),  kernel_initializer='he_normal')(x)\n",
        "x = tf.keras.layers.Dropout(0.45) (x)\n",
        "x = tf.keras.layers.Dense(numClasses, activation='softmax')(x) # Using softmax as an activation function since it specializes in multiple class classification\n",
        "\n",
        "model = tf.keras.Model(inputs=baseModel.input,outputs=x)"
      ]
    },
    {
      "cell_type": "code",
      "execution_count": 46,
      "metadata": {
        "colab": {
          "base_uri": "https://localhost:8080/"
        },
        "id": "E3dGLGv6v1KH",
        "outputId": "625b943e-0760-4184-b483-822ed1ad5d4c"
      },
      "outputs": [
        {
          "name": "stdout",
          "output_type": "stream",
          "text": [
            "Epoch 1/60\n"
          ]
        },
        {
          "name": "stderr",
          "output_type": "stream",
          "text": [
            "/usr/local/lib/python3.8/dist-packages/tensorflow/python/util/dispatch.py:1082: UserWarning: \"`sparse_categorical_crossentropy` received `from_logits=True`, but the `output` argument was produced by a sigmoid or softmax activation and thus does not represent logits. Was this intended?\"\n",
            "  return dispatch_target(*args, **kwargs)\n"
          ]
        },
        {
          "name": "stdout",
          "output_type": "stream",
          "text": [
            "89/89 [==============================] - 23s 203ms/step - loss: 84.2016 - accuracy: 0.6033 - val_loss: 13.5375 - val_accuracy: 0.4446\n",
            "Epoch 2/60\n",
            "89/89 [==============================] - 18s 192ms/step - loss: 12.4558 - accuracy: 0.6153 - val_loss: 14.7101 - val_accuracy: 0.4006\n",
            "Epoch 3/60\n",
            "89/89 [==============================] - 18s 199ms/step - loss: 12.9638 - accuracy: 0.7048 - val_loss: 14.6452 - val_accuracy: 0.5795\n",
            "Epoch 4/60\n",
            "89/89 [==============================] - 17s 186ms/step - loss: 13.2043 - accuracy: 0.7392 - val_loss: 15.8491 - val_accuracy: 0.4943\n",
            "Epoch 5/60\n",
            "89/89 [==============================] - 17s 187ms/step - loss: 13.6833 - accuracy: 0.7786 - val_loss: 16.1031 - val_accuracy: 0.6548\n",
            "Epoch 6/60\n",
            "89/89 [==============================] - 17s 189ms/step - loss: 14.4843 - accuracy: 0.7910 - val_loss: 16.2633 - val_accuracy: 0.5739\n",
            "Epoch 7/60\n",
            "89/89 [==============================] - 17s 187ms/step - loss: 14.0150 - accuracy: 0.8141 - val_loss: 14.1757 - val_accuracy: 0.6733\n",
            "Epoch 8/60\n",
            "89/89 [==============================] - 17s 187ms/step - loss: 12.9400 - accuracy: 0.8414 - val_loss: 15.2447 - val_accuracy: 0.6236\n",
            "Epoch 9/60\n",
            "89/89 [==============================] - 17s 188ms/step - loss: 13.3203 - accuracy: 0.8662 - val_loss: 15.4245 - val_accuracy: 0.7330\n",
            "Epoch 10/60\n",
            "89/89 [==============================] - 18s 200ms/step - loss: 13.5580 - accuracy: 0.8698 - val_loss: 16.4593 - val_accuracy: 0.6989\n",
            "Epoch 11/60\n",
            "89/89 [==============================] - 17s 187ms/step - loss: 14.2996 - accuracy: 0.8708 - val_loss: 16.0344 - val_accuracy: 0.6889\n",
            "Epoch 12/60\n",
            "89/89 [==============================] - 17s 186ms/step - loss: 13.0086 - accuracy: 0.9010 - val_loss: 13.7276 - val_accuracy: 0.6747\n",
            "Epoch 13/60\n",
            "89/89 [==============================] - 17s 189ms/step - loss: 12.4409 - accuracy: 0.9010 - val_loss: 12.5975 - val_accuracy: 0.7841\n",
            "Epoch 14/60\n",
            "89/89 [==============================] - 17s 187ms/step - loss: 11.6632 - accuracy: 0.9116 - val_loss: 17.3709 - val_accuracy: 0.6918\n",
            "Epoch 15/60\n",
            "89/89 [==============================] - 17s 186ms/step - loss: 15.0999 - accuracy: 0.8850 - val_loss: 12.4749 - val_accuracy: 0.7670\n",
            "Epoch 16/60\n",
            "89/89 [==============================] - 17s 188ms/step - loss: 11.0669 - accuracy: 0.9233 - val_loss: 11.8972 - val_accuracy: 0.8082\n",
            "Epoch 17/60\n",
            "89/89 [==============================] - 17s 188ms/step - loss: 10.9457 - accuracy: 0.9280 - val_loss: 14.0339 - val_accuracy: 0.7741\n",
            "Epoch 18/60\n",
            "89/89 [==============================] - 17s 187ms/step - loss: 12.2152 - accuracy: 0.9155 - val_loss: 12.8115 - val_accuracy: 0.7770\n",
            "Epoch 19/60\n",
            "89/89 [==============================] - 18s 200ms/step - loss: 11.4515 - accuracy: 0.9219 - val_loss: 13.0558 - val_accuracy: 0.8210\n",
            "Epoch 20/60\n",
            "89/89 [==============================] - 17s 187ms/step - loss: 11.5765 - accuracy: 0.9333 - val_loss: 11.0160 - val_accuracy: 0.8182\n",
            "Epoch 21/60\n",
            "89/89 [==============================] - 17s 186ms/step - loss: 10.0687 - accuracy: 0.9450 - val_loss: 12.9230 - val_accuracy: 0.7912\n",
            "Epoch 22/60\n",
            "89/89 [==============================] - 17s 187ms/step - loss: 11.5793 - accuracy: 0.9347 - val_loss: 14.3957 - val_accuracy: 0.8026\n",
            "Epoch 23/60\n",
            "89/89 [==============================] - 17s 188ms/step - loss: 12.4232 - accuracy: 0.9269 - val_loss: 12.5654 - val_accuracy: 0.7770\n",
            "Epoch 24/60\n",
            "89/89 [==============================] - 17s 186ms/step - loss: 11.3387 - accuracy: 0.9301 - val_loss: 12.9934 - val_accuracy: 0.7344\n",
            "Epoch 25/60\n",
            "89/89 [==============================] - 17s 186ms/step - loss: 11.3156 - accuracy: 0.9312 - val_loss: 12.9222 - val_accuracy: 0.7756\n",
            "Epoch 26/60\n",
            "89/89 [==============================] - 17s 188ms/step - loss: 11.5280 - accuracy: 0.9287 - val_loss: 10.8730 - val_accuracy: 0.8111\n",
            "Epoch 27/60\n",
            "89/89 [==============================] - 17s 187ms/step - loss: 9.8260 - accuracy: 0.9422 - val_loss: 11.8780 - val_accuracy: 0.8310\n",
            "Epoch 28/60\n",
            "89/89 [==============================] - 17s 187ms/step - loss: 10.6076 - accuracy: 0.9454 - val_loss: 13.8362 - val_accuracy: 0.6989\n",
            "Epoch 29/60\n",
            "89/89 [==============================] - 19s 202ms/step - loss: 11.7723 - accuracy: 0.9312 - val_loss: 11.9053 - val_accuracy: 0.8026\n",
            "Epoch 30/60\n",
            "89/89 [==============================] - 17s 187ms/step - loss: 10.6954 - accuracy: 0.9361 - val_loss: 10.3989 - val_accuracy: 0.8452\n",
            "Epoch 31/60\n",
            "89/89 [==============================] - 17s 186ms/step - loss: 9.3702 - accuracy: 0.9560 - val_loss: 11.8273 - val_accuracy: 0.8111\n",
            "Epoch 32/60\n",
            "89/89 [==============================] - 17s 187ms/step - loss: 10.8149 - accuracy: 0.9418 - val_loss: 11.4127 - val_accuracy: 0.7812\n",
            "Epoch 33/60\n",
            "89/89 [==============================] - 18s 190ms/step - loss: 10.5052 - accuracy: 0.9422 - val_loss: 10.9916 - val_accuracy: 0.8125\n",
            "Epoch 34/60\n",
            "89/89 [==============================] - 17s 187ms/step - loss: 9.7780 - accuracy: 0.9478 - val_loss: 11.7968 - val_accuracy: 0.7557\n",
            "Epoch 35/60\n",
            "89/89 [==============================] - 17s 187ms/step - loss: 10.4656 - accuracy: 0.9429 - val_loss: 9.5570 - val_accuracy: 0.8267\n",
            "Epoch 36/60\n",
            "89/89 [==============================] - 17s 188ms/step - loss: 8.7677 - accuracy: 0.9595 - val_loss: 11.5103 - val_accuracy: 0.7983\n",
            "Epoch 37/60\n",
            "89/89 [==============================] - 17s 188ms/step - loss: 10.4513 - accuracy: 0.9365 - val_loss: 11.9031 - val_accuracy: 0.7741\n",
            "Epoch 38/60\n",
            "89/89 [==============================] - 17s 187ms/step - loss: 10.6331 - accuracy: 0.9372 - val_loss: 10.6750 - val_accuracy: 0.7983\n",
            "Epoch 39/60\n",
            "89/89 [==============================] - 17s 187ms/step - loss: 9.6932 - accuracy: 0.9514 - val_loss: 10.8976 - val_accuracy: 0.8097\n",
            "Epoch 40/60\n",
            "89/89 [==============================] - 19s 202ms/step - loss: 9.9275 - accuracy: 0.9503 - val_loss: 8.9496 - val_accuracy: 0.8452\n",
            "Epoch 41/60\n",
            "89/89 [==============================] - 17s 187ms/step - loss: 8.4320 - accuracy: 0.9659 - val_loss: 9.4974 - val_accuracy: 0.8111\n",
            "Epoch 42/60\n",
            "89/89 [==============================] - 17s 187ms/step - loss: 8.6791 - accuracy: 0.9666 - val_loss: 9.7521 - val_accuracy: 0.8082\n",
            "Epoch 43/60\n",
            "89/89 [==============================] - 17s 186ms/step - loss: 9.2187 - accuracy: 0.9496 - val_loss: 11.8752 - val_accuracy: 0.7798\n",
            "Epoch 44/60\n",
            "89/89 [==============================] - 17s 187ms/step - loss: 10.9601 - accuracy: 0.9336 - val_loss: 10.4298 - val_accuracy: 0.7628\n",
            "Epoch 45/60\n",
            "89/89 [==============================] - 17s 188ms/step - loss: 9.4418 - accuracy: 0.9418 - val_loss: 9.9620 - val_accuracy: 0.8423\n",
            "Epoch 46/60\n",
            "89/89 [==============================] - 17s 187ms/step - loss: 9.1858 - accuracy: 0.9521 - val_loss: 9.9982 - val_accuracy: 0.8054\n",
            "Epoch 47/60\n",
            "89/89 [==============================] - 17s 186ms/step - loss: 9.1857 - accuracy: 0.9521 - val_loss: 9.7131 - val_accuracy: 0.7713\n",
            "Epoch 48/60\n",
            "89/89 [==============================] - 17s 186ms/step - loss: 8.9375 - accuracy: 0.9535 - val_loss: 9.2805 - val_accuracy: 0.7912\n",
            "Epoch 49/60\n",
            "89/89 [==============================] - 17s 189ms/step - loss: 8.6581 - accuracy: 0.9571 - val_loss: 9.0069 - val_accuracy: 0.8224\n",
            "Epoch 50/60\n",
            "89/89 [==============================] - 17s 187ms/step - loss: 8.3552 - accuracy: 0.9677 - val_loss: 9.6299 - val_accuracy: 0.8210\n",
            "Epoch 51/60\n",
            "89/89 [==============================] - 17s 188ms/step - loss: 9.2077 - accuracy: 0.9400 - val_loss: 9.4618 - val_accuracy: 0.8381\n",
            "Epoch 52/60\n",
            "89/89 [==============================] - 17s 186ms/step - loss: 8.6030 - accuracy: 0.9663 - val_loss: 8.7211 - val_accuracy: 0.8438\n",
            "Epoch 53/60\n",
            "89/89 [==============================] - 17s 186ms/step - loss: 8.3903 - accuracy: 0.9610 - val_loss: 8.9535 - val_accuracy: 0.8352\n",
            "Epoch 54/60\n",
            "89/89 [==============================] - 19s 205ms/step - loss: 8.5057 - accuracy: 0.9610 - val_loss: 9.0762 - val_accuracy: 0.8295\n",
            "Epoch 55/60\n",
            "89/89 [==============================] - 17s 189ms/step - loss: 8.5515 - accuracy: 0.9599 - val_loss: 8.6251 - val_accuracy: 0.8338\n",
            "Epoch 56/60\n",
            "89/89 [==============================] - 19s 202ms/step - loss: 8.0030 - accuracy: 0.9737 - val_loss: 8.8933 - val_accuracy: 0.8338\n",
            "Epoch 57/60\n",
            "89/89 [==============================] - 17s 186ms/step - loss: 8.2208 - accuracy: 0.9734 - val_loss: 10.0508 - val_accuracy: 0.8310\n",
            "Epoch 58/60\n",
            "89/89 [==============================] - 17s 187ms/step - loss: 9.8838 - accuracy: 0.9393 - val_loss: 10.0591 - val_accuracy: 0.7855\n",
            "Epoch 59/60\n",
            "89/89 [==============================] - 17s 189ms/step - loss: 9.5083 - accuracy: 0.9397 - val_loss: 9.2847 - val_accuracy: 0.8153\n",
            "Epoch 60/60\n",
            "89/89 [==============================] - 17s 188ms/step - loss: 8.5087 - accuracy: 0.9553 - val_loss: 9.2860 - val_accuracy: 0.8182\n"
          ]
        }
      ],
      "source": [
        "# Training and testing the model\n",
        "epochs = 60\n",
        "learn_rate = 0.0025\n",
        "\n",
        "model.compile(optimizer=tf.keras.optimizers.Adam(learning_rate=learn_rate), loss=tf.keras.losses.SparseCategoricalCrossentropy(from_logits=True), metrics=['accuracy'])\n",
        "\n",
        "history = model.fit(train_data, validation_data=test_data, epochs=epochs) # Takes approximately 2 hours to train using the default machine of google colab"
      ]
    },
    {
      "cell_type": "code",
      "execution_count": 57,
      "metadata": {
        "id": "aCqN3IpDYxU7"
      },
      "outputs": [],
      "source": [
        "\n",
        "model.save('/content/model/model_resnet.h5')\n",
        "with open('/content/model/history_resnet.json','w') as h:\n",
        "  json.dump(history, h)\n"
      ]
    },
    {
      "cell_type": "code",
      "execution_count": 58,
      "metadata": {
        "id": "Vflw8oC6_NcA"
      },
      "outputs": [],
      "source": [
        "# Run cell to load the model using files\n",
        "history2 = {}\n",
        "# Load the model\n",
        "model2 = tf.keras.models.load_model('/content/drive/MyDrive/ISproject/model/model_resnet.h5')\n",
        "\n",
        "# Load the history\n",
        "with open('/content/drive/MyDrive/ISproject/model/history_resnet.json', 'r') as h:\n",
        "    history2 = json.load(h)"
      ]
    },
    {
      "cell_type": "code",
      "execution_count": 59,
      "metadata": {
        "colab": {
          "base_uri": "https://localhost:8080/",
          "height": 573
        },
        "id": "8ZtI9PWE-JPI",
        "outputId": "50e35d83-9ed7-4402-9014-f43cb034abde"
      },
      "outputs": [
        {
          "data": {
            "image/png": "[encoded data removed]",
            "text/plain": [
              "<Figure size 432x288 with 1 Axes>"
            ]
          },
          "metadata": {
            "needs_background": "light"
          },
          "output_type": "display_data"
        },
        {
          "data": {
            "image/png": "[encoded data removed]",
            "text/plain": [
              "<Figure size 432x288 with 1 Axes>"
            ]
          },
          "metadata": {
            "needs_background": "light"
          },
          "output_type": "display_data"
        }
      ],
      "source": [
        "# Graphing the accuracy and loss of the training and testing datasets\n",
        "\n",
        "# Extract the training and validation accuracy and loss values from the history object\n",
        "acc = history['accuracy']\n",
        "val_acc = history['val_accuracy']\n",
        "loss = history['loss']\n",
        "val_loss = history['val_loss']\n",
        "\n",
        "# Plot the training and validation accuracy\n",
        "plt.plot(acc, label='Training accuracy')\n",
        "plt.plot(val_acc, label='Validation accuracy')\n",
        "plt.ylim([0, 1])\n",
        "plt.title('Training and validation accuracy')\n",
        "plt.xlabel('Epoch')\n",
        "plt.ylabel('Accuracy')\n",
        "plt.legend()\n",
        "plt.show()\n",
        "\n",
        "# Plot the training and validation loss\n",
        "plt.plot(loss, label='Training loss')\n",
        "plt.plot(val_loss, label='Validation loss')\n",
        "plt.ylim([0,100])\n",
        "plt.title('Training and validation loss')\n",
        "plt.xlabel('Epoch')\n",
        "plt.ylabel('Loss')\n",
        "plt.legend()\n",
        "plt.show()"
      ]
    },
    {
      "cell_type": "code",
      "execution_count": 50,
      "metadata": {
        "colab": {
          "base_uri": "https://localhost:8080/"
        },
        "id": "PNb9V_0G-niF",
        "outputId": "7921311d-c13a-4731-9e5b-28fb0e14e4ce"
      },
      "outputs": [
        {
          "name": "stdout",
          "output_type": "stream",
          "text": [
            "1/1 [==============================] - 1s 883ms/step\n",
            "1/1 [==============================] - 0s 35ms/step\n",
            "1/1 [==============================] - 0s 46ms/step\n",
            "1/1 [==============================] - 0s 49ms/step\n",
            "1/1 [==============================] - 0s 55ms/step\n",
            "1/1 [==============================] - 0s 61ms/step\n",
            "1/1 [==============================] - 0s 56ms/step\n",
            "1/1 [==============================] - 0s 65ms/step\n",
            "1/1 [==============================] - 0s 58ms/step\n",
            "1/1 [==============================] - 0s 66ms/step\n",
            "1/1 [==============================] - 0s 61ms/step\n",
            "1/1 [==============================] - 0s 65ms/step\n",
            "1/1 [==============================] - 0s 61ms/step\n",
            "1/1 [==============================] - 0s 36ms/step\n",
            "1/1 [==============================] - 0s 37ms/step\n",
            "1/1 [==============================] - 0s 41ms/step\n",
            "1/1 [==============================] - 0s 41ms/step\n",
            "1/1 [==============================] - 0s 35ms/step\n",
            "1/1 [==============================] - 0s 36ms/step\n",
            "1/1 [==============================] - 0s 37ms/step\n",
            "1/1 [==============================] - 0s 39ms/step\n",
            "1/1 [==============================] - 0s 36ms/step\n"
          ]
        }
      ],
      "source": [
        "# Confusion matrix\n",
        "\n",
        "\n",
        "prediction = np.array([])\n",
        "true_val =  np.array([])\n",
        "for x, y in test_data: # Getting predicted and true values of the test data and putting it into a numpy array\n",
        "  prediction = np.concatenate([prediction, np.argmax(model.predict(x), axis = -1)])\n",
        "  true_val = np.concatenate([true_val, y])\n",
        "\n",
        "# Computing the confusion matrix\n",
        "conf_mat = tf.math.confusion_matrix(labels=true_val, predictions=prediction).numpy()\n",
        "\n",
        "\n",
        "\n"
      ]
    },
    {
      "cell_type": "code",
      "execution_count": 51,
      "metadata": {
        "colab": {
          "base_uri": "https://localhost:8080/",
          "height": 329
        },
        "id": "q5hlTZPUAOji",
        "outputId": "bba10e75-eef4-42a7-faf6-8e13e75a03c8"
      },
      "outputs": [
        {
          "data": {
            "text/plain": [
              "Text(0, 0.5, 'True label')"
            ]
          },
          "execution_count": 51,
          "metadata": {},
          "output_type": "execute_result"
        },
        {
          "data": {
            "image/png": "[encoded data removed]",
            "text/plain": [
              "<Figure size 432x288 with 2 Axes>"
            ]
          },
          "metadata": {
            "needs_background": "light"
          },
          "output_type": "display_data"
        }
      ],
      "source": [
        "# Plotting the computed confusion matrix\n",
        "plt.imshow(conf_mat, cmap='YlOrRd', interpolation='nearest')\n",
        "plt.colorbar()\n",
        "tick_marks = np.arange(len(class_name))\n",
        "plt.xticks(tick_marks, class_name, rotation=45)\n",
        "plt.yticks(tick_marks, class_name)\n",
        "for i, j in itertools.product(range(conf_mat.shape[0]), range(conf_mat.shape[1])):\n",
        "        plt.text(j, i, \"{:,}\".format(conf_mat[i, j]),\n",
        "                  horizontalalignment=\"center\",\n",
        "                  color=\"black\")\n",
        "plt.xlabel('Predicted label')\n",
        "plt.ylabel('True label')"
      ]
    },
    {
      "cell_type": "code",
      "execution_count": 52,
      "metadata": {
        "colab": {
          "base_uri": "https://localhost:8080/"
        },
        "id": "5k8amk6DAQmP",
        "outputId": "698b356a-f223-4116-9989-700c1cef9d31"
      },
      "outputs": [
        {
          "name": "stdout",
          "output_type": "stream",
          "text": [
            "Model precision : {'cardboard': 0.7790697674418605, 'glass': 0.897196261682243, 'metal': 0.8333333333333334, 'organic': 0.937007874015748, 'paper': 0.8230088495575221, 'plastic': 0.7299270072992701, 'trash': 0.9318181818181818}\n",
            "Model precision (average of all classes): 0.8473373250211657\n",
            "\n",
            "Model recall : {'cardboard': 0.9852941176470589, 'glass': 0.9411764705882353, 'metal': 0.872093023255814, 'organic': 0.9916666666666667, 'paper': 0.9207920792079208, 'plastic': 0.9523809523809523, 'trash': 0.3360655737704918}\n",
            "Model recall (average of all classes): 0.8570669833595915\n",
            "\n",
            "Model F1-score : {'cardboard': 0.8701298701298702, 'glass': 0.9186602870813397, 'metal': 0.8522727272727274, 'organic': 0.9635627530364372, 'paper': 0.8691588785046729, 'plastic': 0.8264462809917354, 'trash': 0.4939759036144578}\n",
            "Model F1-score (average of all classes): 0.8521743831237024\n"
          ]
        }
      ],
      "source": [
        "# Calculating the F1-score of the model\n",
        "\n",
        "# Calculate precision and recall \n",
        "precision = precision_score(true_val,prediction,average=None) # Precision of each individual class\n",
        "precision_dict = {}\n",
        "\n",
        "precision_avg = precision_score(true_val,prediction,average='macro') # Average precision of all classes\n",
        "\n",
        "\n",
        "recall = recall_score(true_val,prediction,average=None) # Recall of each individual class\n",
        "recall_dict = {}\n",
        "recall_avg = recall_score(true_val,prediction,average='macro') # Average recall of all classes\n",
        "\n",
        "\n",
        "f1_dict = {}\n",
        "for i in range(len(precision)): # Filling the dictionaries\n",
        "  precision_dict[class_name[i]] = precision[i]\n",
        "  recall_dict[class_name[i]] = recall[i]\n",
        "  f1_dict[class_name[i]] = 2 * (precision[i] * recall[i]) / (precision[i] + recall[i]) # Calculating f1 score per class\n",
        "\n",
        "# Calculate F1 score average\n",
        "f1 = 2 * (precision_avg * recall_avg) / (precision_avg + recall_avg)\n",
        "\n",
        "print(f\"Model precision : {precision_dict}\")\n",
        "print(f\"Model precision (average of all classes): {precision_avg}\\n\")\n",
        "print(f\"Model recall : {recall_dict}\")\n",
        "print(f\"Model recall (average of all classes): {recall_avg}\\n\")\n",
        "print(f\"Model F1-score : {f1_dict}\")\n",
        "print(f\"Model F1-score (average of all classes): {f1}\")"
      ]
    }
  ],
  "metadata": {
    "accelerator": "GPU",
    "colab": {
      "provenance": []
    },
    "gpuClass": "standard",
    "kernelspec": {
      "display_name": "base",
      "language": "python",
      "name": "python3"
    },
    "language_info": {
      "name": "python",
      "version": "3.8.5 (default, Sep  3 2020, 21:29:08) [MSC v.1916 64 bit (AMD64)]"
    },
    "vscode": {
      "interpreter": {
        "hash": "0eed8868934389e5218ea90ecc658de53acf536114cd23b9811ca770ba68aaa5"
      }
    }
  },
  "nbformat": 4,
  "nbformat_minor": 0
}
